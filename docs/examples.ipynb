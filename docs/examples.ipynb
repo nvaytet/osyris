{
 "cells": [
  {
   "cell_type": "markdown",
   "metadata": {},
   "source": [
    "# Examples\n",
    "\n",
    "We will first import the necessary modules"
   ]
  },
  {
   "cell_type": "code",
   "execution_count": null,
   "metadata": {},
   "outputs": [],
   "source": [
    "import osyris\n",
    "import numpy as np\n",
    "import matplotlib.pyplot as plt"
   ]
  },
  {
   "cell_type": "markdown",
   "metadata": {},
   "source": [
    "and load a data file from a star formation simulation"
   ]
  },
  {
   "cell_type": "code",
   "execution_count": null,
   "metadata": {},
   "outputs": [],
   "source": [
    "mydata = osyris.RamsesData(71, scale=\"au\")"
   ]
  },
  {
   "cell_type": "markdown",
   "metadata": {},
   "source": [
    "## Example 1: Simple 2D slice\n",
    "\n",
    "Create a 2D slice of the logarithm of density 100 au wide through the `z` plane, with velocity vectors overlayed as arrows"
   ]
  },
  {
   "cell_type": "code",
   "execution_count": null,
   "metadata": {},
   "outputs": [],
   "source": [
    "osyris.plot_slice(mydata.log_rho, direction=\"z\",\n",
    "                  vec=mydata.velocity, dx=100)"
   ]
  },
  {
   "cell_type": "markdown",
   "metadata": {},
   "source": [
    "## Example 2: Binning cells in a 2D histogram\n",
    "\n",
    "Create a 2D histogram of the number of cells in the $\\log(\\rho)-\\log(T)$ plane"
   ]
  },
  {
   "cell_type": "code",
   "execution_count": null,
   "metadata": {},
   "outputs": [],
   "source": [
    "osyris.plot_histogram(mydata.log_rho, mydata.log_T,\n",
    "                      scalar_args={\"cmap\": \"log\"})"
   ]
  },
  {
   "cell_type": "markdown",
   "metadata": {},
   "source": [
    "## Example 3: New variable field and scatter plot\n",
    "\n",
    "Add a new data field $\\log(v)$ which represents the logarithm of the magnitude of the velocity vectors.\n",
    "Then, create a 2D scatter plot of $\\log(v)$ as a function of $\\log(\\rho)$. We plot only one cell out of 100, use a new colormap which represents $\\log(T)$, and include a grey outline around all the data points."
   ]
  },
  {
   "cell_type": "code",
   "execution_count": null,
   "metadata": {},
   "outputs": [],
   "source": [
    "mydata.new_field(name=\"log_vel\",\n",
    "                 operation=\"np.log10(np.sqrt(velocity_x**2 +\"\n",
    "                           \"velocity_y**2 + velocity_z**2))\",\n",
    "                 unit=mydata.velocity_x.unit, label=\"log(Velocity)\")\n",
    "osyris.plot_histogram(mydata.log_rho, mydata.log_vel,\n",
    "                      scatter=mydata.log_T, outline=True,\n",
    "                      scatter_args={\"iskip\": 100,\"cmap\": \"gnuplot\"})"
   ]
  },
  {
   "cell_type": "markdown",
   "metadata": {},
   "source": [
    "## Example 4: Plot slice with streamlines\n",
    "\n",
    "Create a 2D slice of $\\log(\\rho)$ 100 au wide through the data at `y = 0`, with the `x` axis along the horizontal direction, overlaying magnetic field streamlines. Color the streamlines logarithmically with a new colormap. Set the time unit to yr."
   ]
  },
  {
   "cell_type": "code",
   "execution_count": null,
   "metadata": {},
   "outputs": [],
   "source": [
    "osyris.config.default_values[\"time_unit\"] = \"yr\"\n",
    "osyris.plot_slice(mydata.log_rho, direction=\"yxz\",\n",
    "                  stream=mydata.B, dx=100,\n",
    "                  stream_args={\"cmap\": \"log,jet\"})"
   ]
  },
  {
   "cell_type": "markdown",
   "metadata": {},
   "source": [
    "## Example 5: Density slice at arbitrary angle with coloured velocity vectors\n",
    "\n",
    "Create a 2D slice of the logarithm of density 100 au wide centered around the highest density point. The direction of the slicing plane is specified by the normal vector to the plane `[-1, 1, 1]`. Velocity vectors in km/s are overlayed. Color the vectors with a new colormap and increase the number of vectors to be plotted by decreasing the vskip value from its default `9` down to `4`. Finally add a colorbar for vectors."
   ]
  },
  {
   "cell_type": "code",
   "execution_count": null,
   "metadata": {},
   "outputs": [],
   "source": [
    "mydata.new_field(name=\"vkms\", operation=\"velocity/1.0e5\",\n",
    "                 unit=osyris.units(\"km/s\"), label=\"Velocity\")\n",
    "osyris.plot_slice(mydata.log_rho, direction=[-1,1,1],\n",
    "                  vec=mydata.vkms, dx=100,\n",
    "                  vec_args={\"cmap\": \"jet\", \"vskip\": 4, \"cbar\": True})"
   ]
  },
  {
   "cell_type": "markdown",
   "metadata": {},
   "source": [
    "## Example 6: Automatic “top/side” slice orientation according to angular momentum\n",
    "\n",
    "Create a 2D slice of the logarithm of density 100 au wide through the data using automatic orientation based on the angular momentum in the data. This is useful for looking at disks. Use the `\"auto:top\"` direction for the slice to view the disk from above"
   ]
  },
  {
   "cell_type": "code",
   "execution_count": null,
   "metadata": {},
   "outputs": [],
   "source": [
    "osyris.plot_slice(mydata.log_rho, direction=\"auto:top\",\n",
    "                  vec=mydata.velocity, dx=100)"
   ]
  },
  {
   "cell_type": "markdown",
   "metadata": {},
   "source": [
    "Use the `direction=\"auto:side\"` for the slice to view the disk from the side"
   ]
  },
  {
   "cell_type": "code",
   "execution_count": null,
   "metadata": {},
   "outputs": [],
   "source": [
    "osyris.plot_slice(mydata.log_rho, direction=\"auto:side\",\n",
    "                  vec=mydata.velocity, dx=100)"
   ]
  },
  {
   "cell_type": "markdown",
   "metadata": {},
   "source": [
    "## Example 7: Subplots, slices and contours\n",
    "\n",
    "In this example, we create two subplot axes with `matplotlib`.\n",
    "\n",
    "Next, we create a velocity field in km/s for better plotting. We then plot in the left panel the log of density as a coloured slice with kms velocity vectors. The minimum and maximum of $\\log(\\rho)$ is forced to `-14` and `-9`, and we used 40 colours instead of the default 20. We give the `plot_slice` call the axes to use via the `axes` argument. The vectors are scaled to 2km/s, and the key is moved inside the axes. Next, we overlay some custom chosen density contours with different line styles and colours.\n",
    "\n",
    "In the right panel, we plot a slice of temperature and overlay some lightgray contours showing the AMR levels. We label the contours with `\"label\":True` and set the format to integers with `\"fmt\":\"%i\"`."
   ]
  },
  {
   "cell_type": "code",
   "execution_count": null,
   "metadata": {},
   "outputs": [],
   "source": [
    "# Create figure\n",
    "fig = plt.figure(figsize=(8, 3))\n",
    "ax1 = fig.add_subplot(121)\n",
    "ax2 = fig.add_subplot(122)\n",
    "plt.subplots_adjust(wspace=0.5)\n",
    "\n",
    "# Create velocity field in km/s\n",
    "mydata.new_field(name=\"vkms\", operation=\"velocity/1.0e5\",\n",
    "                 unit=osyris.units(\"km/s\"), label=\"Velocity\")\n",
    "\n",
    "# Define region to plot\n",
    "dx = 15.0\n",
    "\n",
    "# Left plot: coloured density slice with overlayed contours\n",
    "osyris.plot_slice(mydata.log_rho, direction=\"z\", dx=dx,\n",
    "                  axes=ax1,\n",
    "                  scalar_args={\"extend\": \"both\",\n",
    "                               \"vmin\": -14.0,\n",
    "                               \"vmax\": -9.0,\n",
    "                               \"nc\": 40},\n",
    "                  vec=mydata.vkms,\n",
    "                  vec_args={\"vscale\": 2.0,\n",
    "                            \"vkey_pos\": [0.65,0.1]},\n",
    "                  contour=mydata.log_rho,\n",
    "                  contour_args={\"levels\": [-12.0,-11.0,-9.0],\n",
    "                                \"colors\": ('yellow','k',\"lime\"),\n",
    "                                \"linewidths\": [2,5,2],\n",
    "                                \"linestyles\": [\"solid\",\"dashed\",\"solid\"],\n",
    "                                \"cmap\": None,\n",
    "                                \"cbar\": False},\n",
    "                  title=\"My title\")\n",
    "\n",
    "# Right plot: temperature slice with AMR levels\n",
    "osyris.plot_slice(mydata.log_T, direction=\"z\", dx=dx,\n",
    "                  axes=ax2, title=\"\",\n",
    "                  scalar_args={\"cmap\": \"hot\"},\n",
    "                  contour=mydata.level,\n",
    "                  contour_args={\"fmt\": \"%i\",\n",
    "                                \"colors\": \"lightgray\",\n",
    "                                \"cmap\": None,\n",
    "                                \"levels\": range(12,20),\n",
    "                                \"label\": True,\n",
    "                                \"cbar\": False})"
   ]
  },
  {
   "cell_type": "markdown",
   "metadata": {},
   "source": [
    "## Example 8: Plot only a subset of cells belonging to a disk\n",
    "\n",
    "In this example, we select cells according to their density and plot only those. This is done by creating a new field and using the `numpy` `where` function. To combine more than one selection criteria, use the `logical_and` `numpy` function.\n",
    "\n",
    "This is useful for plotting disks around protostars, for example. Here we select the cells with a density in the range $-12.5 < \\log(\\rho) < -11.0$. After plotting the disk, we use 2 different methods to compute the disk mass."
   ]
  },
  {
   "cell_type": "code",
   "execution_count": null,
   "metadata": {},
   "outputs": [],
   "source": [
    "mydata.new_field(name=\"log_rho_disk\",\n",
    "                 values=np.where(np.logical_and(\n",
    "                                 mydata.get(\"log_rho\") > -12.5,\n",
    "                                 mydata.get(\"log_rho\") < -11.0),\n",
    "                                 mydata.get(\"log_rho\"), np.NaN),\n",
    "                 unit=osyris.units(\"g/cc\"),\n",
    "                 label=\"log(Disk density)\")\n",
    "\n",
    "osyris.plot_slice(mydata.log_rho_disk, direction=\"z\", dx=50)\n",
    "\n",
    "# Now print disk mass: 2 different ways\n",
    "# Method 1:\n",
    "cube = np.where(np.logical_and(\n",
    "                mydata.get(\"log_rho\") > -12.5,\n",
    "                mydata.get(\"log_rho\") < -11.0))\n",
    "mcore1 = np.sum(mydata.get(\"mass\")[cube])\n",
    "# Method 2:\n",
    "mydata.new_field(name=\"disk_mass\",\n",
    "                 values=np.where(np.logical_and(\n",
    "                                 mydata.get(\"log_rho\") > -12.5,\n",
    "                                 mydata.get(\"log_rho\") < -11.0),\n",
    "                                 mydata.get(\"mass\"), np.NaN),\n",
    "                 label=\"Disk mass\")\n",
    "mcore2 = np.nansum(mydata.get(\"disk_mass\"))\n",
    "print(\"Disk mass: %.3e Msun ; %.3e Msun\"%(mcore1, mcore2))"
   ]
  },
  {
   "cell_type": "markdown",
   "metadata": {},
   "source": [
    "## Example 9: Difference between two snapshots\n",
    "\n",
    "Here, we want to make a map of the difference in density between two snapshots. Because we do not necessarily have the same number of cells at the same place, we first have to make uniform 2D maps using the `plot_slice` function, which we can then directly compare.\n",
    "\n",
    "This is done by calling `plot_slice` with the arguments `plot=False` to avoid making a plot, and `copy=True` to return the data to a variable.\n",
    "\n",
    "For this to make sense, the two outputs have to be centered around the same point: `[0.5, 0.5, 0.5]` (which is the default)."
   ]
  },
  {
   "cell_type": "code",
   "execution_count": null,
   "metadata": {},
   "outputs": [],
   "source": [
    "# Read data from a later snapshot\n",
    "mydata2 = osyris.RamsesData(201, scale=\"au\")\n",
    "\n",
    "# Extract log(density) slices by copying data into structures\n",
    "slice1 = osyris.plot_slice(mydata.log_rho, direction=\"z\",\n",
    "                           dx=100, plot=False, copy=True)\n",
    "slice2 = osyris.plot_slice(mydata2.log_rho, direction=\"z\",\n",
    "                           dx=100, plot=False, copy=True)\n",
    "\n",
    "# Get coordinates\n",
    "x = slice1[0]\n",
    "y = slice1[1]\n",
    "\n",
    "# Get densities\n",
    "rho1 = slice1[2][\"scalar\"]\n",
    "rho2 = slice2[2][\"scalar\"]\n",
    "\n",
    "# Density difference\n",
    "diff = (rho1-rho2)/rho2\n",
    "\n",
    "# Create figure\n",
    "fig = plt.figure()\n",
    "ax1 = fig.add_subplot(111)\n",
    "im1 = ax1.contourf(x, y , diff, cmap='RdBu',\n",
    "                   levels=np.linspace(-0.12,0.12,31))\n",
    "ax1.set_aspect(\"equal\")\n",
    "cb = plt.colorbar(im1, ax=ax1)\n",
    "cb.ax.set_ylabel(\"Relative difference\")"
   ]
  },
  {
   "cell_type": "markdown",
   "metadata": {},
   "source": [
    "## Example 10: ISM tables for opacities and resistivities\n",
    "\n",
    "We load the opacities and resistivities tables, and plot them as a function of gas density."
   ]
  },
  {
   "cell_type": "code",
   "execution_count": null,
   "metadata": {},
   "outputs": [],
   "source": [
    "# Create figure\n",
    "fig, ax = plt.subplots(2, 1, figsize=(5, 8))\n",
    "plt.subplots_adjust(hspace=0.3)\n",
    "\n",
    "# Read opacity table and plot Rosseland mean opacity\n",
    "osyris.ism_physics.get_opacities(mydata)\n",
    "mydata.new_field(name=\"log_kr\", operation=\"np.log10(kappa_r)\",\n",
    "                 label=\"log(Kr)\", unit=osyris.units(\"cm^2/g\"))\n",
    "osyris.plot_histogram(mydata.log_T, mydata.log_kr,\n",
    "                      scalar_args={\"cmap\": \"log,Blues\",\n",
    "                                   \"cbar\": False},\n",
    "                      outline=True, axes=ax[0],\n",
    "                      title=\"Opacities\")\n",
    "\n",
    "# Read resistivity table and plot Ohmic and Ambipolar\n",
    "osyris.ism_physics.get_resistivities(mydata)\n",
    "mydata.new_field(name=\"log_etaO\", operation=\"np.log10(eta_ohm)\",\n",
    "                 label=\"log(etaO)\")\n",
    "mydata.new_field(name=\"log_etaA\", operation=\"np.log10(eta_ad)\",\n",
    "                 label=\"log(etaA)\")\n",
    "osyris.plot_histogram(mydata.log_rho, mydata.log_etaO,\n",
    "                      scalar_args={\"cmap\": \"log,Greys\",\n",
    "                                   \"cbar\": False},\n",
    "                      outline=True, axes=ax[1], title=\"\")\n",
    "osyris.plot_histogram(mydata.log_rho, mydata.log_etaA,\n",
    "                      scalar_args={\"cmap\": \"log,Reds\",\n",
    "                                   \"cbar\": False},\n",
    "                      outline=True, axes=ax[1],\n",
    "                      title=\"Resistivities\")\n",
    "ax[1].set_ylabel(\"log(eta) [s]\")\n",
    "ax[1].text(-16.0,0.0, \"Ambipolar\", va=\"center\", ha=\"center\")\n",
    "ax[1].text(-12.0,-4.0, \"Ohmic\", va=\"center\", ha=\"center\")"
   ]
  },
  {
   "cell_type": "markdown",
   "metadata": {},
   "source": [
    "## Example 11: Make a thick slice\n",
    "\n",
    "We want to plot the average value of density inside a slice with a thickness of 20 AU. For this, we use the `plot_column_density` function with the `summed=False` option. We also set the number of samples along the slice thickness direction to 5 using `nz=5` to speed up the process (by default `nz` equals the resolution in `x` and `y`). We also plot velocity vectors which are the average of the velocity field along the line of sight.\n",
    "\n",
    "**Note:** Remember to check for convergence by increasing `nz` to make sure you have similar results with a low `nz`."
   ]
  },
  {
   "cell_type": "code",
   "execution_count": null,
   "metadata": {},
   "outputs": [],
   "source": [
    "osyris.plot_column_density(scalar=mydata.density,\n",
    "                           direction=\"z\", vec=mydata.velocity,\n",
    "                           dx=100, dz=20,\n",
    "                           scalar_args={\"cmap\": \"log\"},\n",
    "                           nz=5, summed=False)"
   ]
  },
  {
   "cell_type": "markdown",
   "metadata": {},
   "source": [
    "## Example 12: Slice above the origin\n",
    "\n",
    "We want to plot a slice of density but through a point which is 5 AU above the centre of the domain, defined as the cell with the highest density. This is done by setting the `origin` coordinate to `[0, 0, 5]`"
   ]
  },
  {
   "cell_type": "code",
   "execution_count": null,
   "metadata": {},
   "outputs": [],
   "source": [
    "osyris.plot_slice(scalar=mydata.density, direction=\"z\",\n",
    "                  vec=mydata.velocity, dx=100, origin=[0,0,5],\n",
    "                  scalar_args={\"cmap\": \"log\"})"
   ]
  },
  {
   "cell_type": "markdown",
   "metadata": {},
   "source": [
    "## Example 13: Make a histogram with mass colormap\n",
    "\n",
    "Here we create a histogram of $\\log(\\rho)$ vs $\\log(T)$ using the mass contained in each pixel as the colormap. We want to sum the mass in each pixel, so we use the option `operation=\"sum\"`"
   ]
  },
  {
   "cell_type": "code",
   "execution_count": null,
   "metadata": {},
   "outputs": [],
   "source": [
    "osyris.plot_histogram(mydata.log_rho, mydata.log_T, mydata.mass,\n",
    "                      operation=\"sum\", outline=True,\n",
    "                      scalar_args={\"cmap\": \"magma_r,log\"})"
   ]
  },
  {
   "cell_type": "markdown",
   "metadata": {},
   "source": [
    "## Example 14: Demo from the README with histogram and slice subplots\n",
    "\n",
    "We make six subplots:"
   ]
  },
  {
   "cell_type": "code",
   "execution_count": null,
   "metadata": {},
   "outputs": [],
   "source": [
    "# Create figure\n",
    "fig, ax = plt.subplots(2, 3, figsize=(20, 10))\n",
    "\n",
    "# Density vs B field with AMR level contours\n",
    "osyris.plot_histogram(mydata.log_rho, mydata.log_B, axes=ax[0][0],\n",
    "                      scalar=True, scalar_args={\"cmap\": \"log,YlGnBu\"},\n",
    "                      contour=mydata.level,\n",
    "                      contour_args={\"fmt\": \"%i\", \"label\": True,\n",
    "                                    \"colors\": \"k\", \"cmap\": None,\n",
    "                                    \"levels\": range(5,20), \"cbar\": False})\n",
    "\n",
    "# Create new field with log of velocity\n",
    "mydata.new_field(name=\"log_vel\",\n",
    "                 operation=\"np.log10(np.sqrt(\"\n",
    "                           \"velocity_x**2+velocity_y**2+velocity_z**2))\",\n",
    "                 unit=osyris.units(\"cm/s\"), label=\"log(Velocity)\")\n",
    "\n",
    "# Density vs log_vel in scatter mode with a grey outline\n",
    "osyris.plot_histogram(mydata.log_rho, mydata.log_vel, axes=ax[0][1],\n",
    "                      scatter=mydata.log_T, outline=True,\n",
    "                      scatter_args={\"iskip\": 100, \"cmap\": \"gnuplot\"})\n",
    "\n",
    "#x,z density slice with B field streamlines\n",
    "osyris.plot_slice(mydata.density, direction=\"yxz\", stream=mydata.B,\n",
    "                  dx=100, axes=ax[0][2], scalar_args={\"cmap\": \"log\"})\n",
    "# x,y density slice with velocity vectors in color\n",
    "osyris.plot_slice(scalar=mydata.log_rho, direction=\"z\",\n",
    "                  vec=mydata.velocity, dx=100, axes=ax[1][0],\n",
    "                  vec_args={\"cmap\": \"seismic\", \"vskip\": 4})\n",
    "# x,y temperature slice with velocity vectors\n",
    "osyris.plot_slice(mydata.log_T, direction=\"z\", vec=mydata.velocity,\n",
    "                  dx=100, axes=ax[1][1], scalar_args={\"cmap\":\"hot\"},\n",
    "                  contour=mydata.level,\n",
    "                  contour_args={\"fmt\": \"%i\", \"label\": True,\n",
    "                                \"colors\": \"w\", \"cmap\": None,\n",
    "                                \"levels\": range(9,17)})\n",
    "\n",
    "# Re-plot x,y density slice with velocity vectors for a later snapshot\n",
    "osyris.plot_slice(mydata2.log_rho, direction=\"auto:top\",\n",
    "                  vec=mydata2.velocity, dx=100, axes=ax[1][2])"
   ]
  },
  {
   "cell_type": "markdown",
   "metadata": {},
   "source": [
    "## Example 15: Color slice vectors with custom field\n",
    "\n",
    "We plot a $\\log(\\rho)$ scalar field. We overlay vectors that represent the magnetic field direction but are coloured with the magnitude of the velocity instead of the $B$ field. We first create a new field to represent the velocity in km/s `mydata.vkms`.\n",
    "\n",
    "Then we set `\"colors\":mydata.vkms` in `vec_args`. We remove the arrow heads by setting `\"headwidth\":1,\"headlength\":0`. We want all vector segments to have the same length, so we normalize them with `\"normalize_arrows\":True`, and we make them a little thicker with `\"width\":0.01`.\n",
    "\n",
    "**Warning:** in `vec_args`, `colors` is for a new field for the colormap, whereas `color` is a single color (e.g. 'white') for coloring the arrows."
   ]
  },
  {
   "cell_type": "code",
   "execution_count": null,
   "metadata": {},
   "outputs": [],
   "source": [
    "mydata.new_field(name=\"vkms\", operation=\"velocity/1.0e5\",\n",
    "                 unit=osyris.units(\"km/s\"), label=\"Velocity\")\n",
    "osyris.plot_slice(scalar=mydata.log_rho, direction=\"yxz\",\n",
    "                  vec=mydata.B, dx=100,\n",
    "                  scalar_args={\"cmap\": \"Blues\"},\n",
    "                  vec_args={\"cmap\":\"YlOrRd\", \"colors\": mydata.vkms,\n",
    "                            \"normalize_arrows\": True, \"vkey\": False,\n",
    "                            \"scale\": 25.0, \"cbar\": True, \"width\": 0.01,\n",
    "                            \"headwidth\": 1, \"headlength\":0})"
   ]
  },
  {
   "cell_type": "markdown",
   "metadata": {},
   "source": [
    "## Example 16: Radial profile\n",
    "\n",
    "We can use the `plot_histogram` function to create a radial density profile.\n",
    "\n",
    "The radial coordinate `r` and its logarithm `log_r` are by default calculated when a RAMSES output is loaded. By plotting the density as a function of radius as a scatter plot in `plot_histogram`, we get the figure below (`iskip` is used to plot 1 in every 100 points to limit the size of the figure).\n",
    "\n",
    "We also overlay the mean radial profile by binning the data radially and computing the mean density in each bin. This is drawn on the figure using the usual `matplotlib` plotting functions.\n",
    "\n",
    "Note that the mean profile uses the full data set, not just one in every 100 points."
   ]
  },
  {
   "cell_type": "code",
   "execution_count": null,
   "metadata": {},
   "outputs": [],
   "source": [
    "# Create figure\n",
    "fig = plt.figure()\n",
    "ax = fig.add_subplot(111)\n",
    "\n",
    "# Make scatter plot as radial profile\n",
    "osyris.plot_histogram(mydata.log_r, mydata.log_rho, scatter=True,\n",
    "                      scatter_args={\"iskip\": 100, \"c\": \"grey\"},\n",
    "                      axes=ax)\n",
    "\n",
    "# Now overlay mean profile\n",
    "\n",
    "# Define min and max range\n",
    "rmin = -1.0\n",
    "rmax = 4.0\n",
    "\n",
    "# Number of points\n",
    "nr = 200\n",
    "\n",
    "# Radial bin edges and centers\n",
    "re = np.linspace(rmin,rmax,nr+1)\n",
    "log_r = np.zeros([nr])\n",
    "for i in range(nr):\n",
    "    log_r[i] = 0.5*(re[i]+re[i+1])\n",
    "\n",
    "# Modify r values so that the central cell is not \"-inf\"\n",
    "r = np.where(np.isinf(mydata.log_r.values),-2.0,mydata.log_r.values)\n",
    "\n",
    "# Bin the data in radial bins\n",
    "z0, edges = np.histogram(r, bins=re)\n",
    "z1, edges = np.histogram(r, bins=re, weights=mydata.density.values)\n",
    "rho_mean = np.log10(z1 / z0)\n",
    "\n",
    "# Overlay profile\n",
    "ax.plot(log_r, rho_mean, color=\"r\", lw=3, label=\"Mean profile\")\n",
    "ax.legend()"
   ]
  },
  {
   "cell_type": "code",
   "execution_count": null,
   "metadata": {},
   "outputs": [],
   "source": []
  }
 ],
 "metadata": {
  "kernelspec": {
   "display_name": "Python 3",
   "language": "python",
   "name": "python3"
  },
  "language_info": {
   "codemirror_mode": {
    "name": "ipython",
    "version": 3
   },
   "file_extension": ".py",
   "mimetype": "text/x-python",
   "name": "python",
   "nbconvert_exporter": "python",
   "pygments_lexer": "ipython3",
   "version": "3.7.3"
  }
 },
 "nbformat": 4,
 "nbformat_minor": 2
}
